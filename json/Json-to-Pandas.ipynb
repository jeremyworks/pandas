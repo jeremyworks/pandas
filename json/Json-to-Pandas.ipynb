{
 "cells": [
  {
   "cell_type": "markdown",
   "metadata": {},
   "source": [
    "# Viewing JSON data\n",
    "Select Cell/Run All to start analyzing data."
   ]
  },
  {
   "cell_type": "code",
   "execution_count": null,
   "metadata": {},
   "outputs": [],
   "source": [
    "import genson\n",
    "import hashlib\n",
    "import json  \n",
    "import pandas as pd  \n",
    "import requests\n",
    "import sys\n",
    "\n",
    "from requests.auth import HTTPBasicAuth\n",
    "from os import path\n",
    "from genson import SchemaBuilder"
   ]
  },
  {
   "cell_type": "code",
   "execution_count": null,
   "metadata": {
    "scrolled": true
   },
   "outputs": [],
   "source": [
    "# Upload and save a file to this notebook/host\n",
    "from ipywidgets import FileUpload\n",
    "uploader = FileUpload()\n",
    "\n",
    "def on_value_change(change):\n",
    "    [first_upload] = change['new']\n",
    "    metadata = uploader.value[first_upload]['metadata']\n",
    "    filename = metadata['name']\n",
    "    content = uploader.value[first_upload]['content']\n",
    "    \n",
    "    print(\"Writing content to: \" + filename)\n",
    "    f = open(filename, \"wb+\")\n",
    "    f.write(content)\n",
    "    f.close()\n",
    "    \n",
    "uploader.observe(on_value_change, names='value')\n",
    "display(uploader)"
   ]
  },
  {
   "cell_type": "code",
   "execution_count": null,
   "metadata": {},
   "outputs": [],
   "source": [
    "# return pickle cache filename for a given key\n",
    "def get_cache_file_name(key, ext):\n",
    "    return \"./{key}.{ext}\".format(key=key, ext=ext)\n",
    "\n",
    "# Given a key return cached DataFrame or None\n",
    "def get_cached_df(key):\n",
    "    file_name = get_cache_file_name(key, 'pkl')\n",
    "    if path.exists(file_name):\n",
    "        print(\"Cache found: {file_name}\".format(file_name=file_name))\n",
    "        return pd.read_pickle(file_name)\n",
    "    else:\n",
    "        return None\n",
    "    \n",
    "# Store pickled DataFrame\n",
    "def cache_df(df, key):\n",
    "    file_name = get_cache_file_name(key, 'pkl')\n",
    "    df.to_pickle(file_name)    \n",
    "    \n",
    "# Acquire text from URL or file\n",
    "def read_json_text(path):\n",
    "    text = None\n",
    "    if path.startswith('http'):\n",
    "        r = requests.get(path)\n",
    "        text = r.text\n",
    "    else:\n",
    "        data_file = open(path)\n",
    "        text = data_file.read()\n",
    "    return text\n",
    "        \n",
    "# Load JSON into a DataFrame given the a path to the JSON data\n",
    "def load_json(path):\n",
    "    key = hashlib.md5(path.encode('utf-8')).hexdigest()\n",
    "    df = get_cached_df(key)\n",
    "    if df is not None:\n",
    "        return df\n",
    "        \n",
    "    text = read_json_text(path)\n",
    "    jsdata = json.loads(text)\n",
    "    new_df = pd.json_normalize(jsdata)\n",
    "            \n",
    "    cache_df(new_df, key)\n",
    "    return new_df\n",
    "\n",
    "# Given a URL of path to json data will attempt to display the JSON schema\n",
    "def display_schema(path):\n",
    "    text = read_json_text(path)\n",
    "    jsdata = json.loads(text)\n",
    "    \n",
    "    builder = SchemaBuilder()\n",
    "    builder.add_schema({\"type\": \"object\", \"properties\": {}})\n",
    "    builder.add_object(jsdata)\n",
    "    schema = builder.to_schema()\n",
    "    print(json.dumps(schema, indent=1))\n",
    "    "
   ]
  },
  {
   "cell_type": "code",
   "execution_count": null,
   "metadata": {},
   "outputs": [],
   "source": [
    "display_schema('https://raw.githubusercontent.com/prust/wikipedia-movie-data/master/movies.json')"
   ]
  },
  {
   "cell_type": "code",
   "execution_count": null,
   "metadata": {},
   "outputs": [],
   "source": [
    "#df = load_json('https://raw.githubusercontent.com/prust/wikipedia-movie-data/master/movies.json')\n",
    "df = load_json('movies.json')\n",
    "print(df.info())\n",
    "df"
   ]
  }
 ],
 "metadata": {
  "kernelspec": {
   "display_name": "Python 3",
   "language": "python",
   "name": "python3"
  },
  "language_info": {
   "codemirror_mode": {
    "name": "ipython",
    "version": 3
   },
   "file_extension": ".py",
   "mimetype": "text/x-python",
   "name": "python",
   "nbconvert_exporter": "python",
   "pygments_lexer": "ipython3",
   "version": "3.7.6"
  }
 },
 "nbformat": 4,
 "nbformat_minor": 4
}
